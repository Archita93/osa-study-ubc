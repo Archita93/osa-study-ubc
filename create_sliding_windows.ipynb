{
  "nbformat": 4,
  "nbformat_minor": 0,
  "metadata": {
    "colab": {
      "provenance": []
    },
    "kernelspec": {
      "name": "python3",
      "display_name": "Python 3"
    },
    "language_info": {
      "name": "python"
    }
  },
  "cells": [
    {
      "cell_type": "code",
      "execution_count": null,
      "metadata": {
        "id": "QHuDFzr5TcQv",
        "colab": {
          "base_uri": "https://localhost:8080/"
        },
        "outputId": "8859c727-bb37-41ad-82ea-3c01862d0d79"
      },
      "outputs": [
        {
          "output_type": "stream",
          "name": "stdout",
          "text": [
            "Mounted at /content/drive\n"
          ]
        }
      ],
      "source": [
        "from google.colab import drive\n",
        "drive.mount('/content/drive')"
      ]
    },
    {
      "cell_type": "code",
      "source": [
        "!pip install mne"
      ],
      "metadata": {
        "colab": {
          "base_uri": "https://localhost:8080/"
        },
        "id": "sbeQ4k49VnBm",
        "outputId": "5f406ddf-542a-4957-cbd5-65bfae66dbcc"
      },
      "execution_count": null,
      "outputs": [
        {
          "output_type": "stream",
          "name": "stdout",
          "text": [
            "Collecting mne\n",
            "  Downloading mne-1.9.0-py3-none-any.whl.metadata (20 kB)\n",
            "Requirement already satisfied: decorator in /usr/local/lib/python3.11/dist-packages (from mne) (4.4.2)\n",
            "Requirement already satisfied: jinja2 in /usr/local/lib/python3.11/dist-packages (from mne) (3.1.6)\n",
            "Requirement already satisfied: lazy-loader>=0.3 in /usr/local/lib/python3.11/dist-packages (from mne) (0.4)\n",
            "Requirement already satisfied: matplotlib>=3.6 in /usr/local/lib/python3.11/dist-packages (from mne) (3.10.0)\n",
            "Requirement already satisfied: numpy<3,>=1.23 in /usr/local/lib/python3.11/dist-packages (from mne) (2.0.2)\n",
            "Requirement already satisfied: packaging in /usr/local/lib/python3.11/dist-packages (from mne) (24.2)\n",
            "Requirement already satisfied: pooch>=1.5 in /usr/local/lib/python3.11/dist-packages (from mne) (1.8.2)\n",
            "Requirement already satisfied: scipy>=1.9 in /usr/local/lib/python3.11/dist-packages (from mne) (1.15.3)\n",
            "Requirement already satisfied: tqdm in /usr/local/lib/python3.11/dist-packages (from mne) (4.67.1)\n",
            "Requirement already satisfied: contourpy>=1.0.1 in /usr/local/lib/python3.11/dist-packages (from matplotlib>=3.6->mne) (1.3.2)\n",
            "Requirement already satisfied: cycler>=0.10 in /usr/local/lib/python3.11/dist-packages (from matplotlib>=3.6->mne) (0.12.1)\n",
            "Requirement already satisfied: fonttools>=4.22.0 in /usr/local/lib/python3.11/dist-packages (from matplotlib>=3.6->mne) (4.58.1)\n",
            "Requirement already satisfied: kiwisolver>=1.3.1 in /usr/local/lib/python3.11/dist-packages (from matplotlib>=3.6->mne) (1.4.8)\n",
            "Requirement already satisfied: pillow>=8 in /usr/local/lib/python3.11/dist-packages (from matplotlib>=3.6->mne) (11.2.1)\n",
            "Requirement already satisfied: pyparsing>=2.3.1 in /usr/local/lib/python3.11/dist-packages (from matplotlib>=3.6->mne) (3.2.3)\n",
            "Requirement already satisfied: python-dateutil>=2.7 in /usr/local/lib/python3.11/dist-packages (from matplotlib>=3.6->mne) (2.9.0.post0)\n",
            "Requirement already satisfied: platformdirs>=2.5.0 in /usr/local/lib/python3.11/dist-packages (from pooch>=1.5->mne) (4.3.8)\n",
            "Requirement already satisfied: requests>=2.19.0 in /usr/local/lib/python3.11/dist-packages (from pooch>=1.5->mne) (2.32.3)\n",
            "Requirement already satisfied: MarkupSafe>=2.0 in /usr/local/lib/python3.11/dist-packages (from jinja2->mne) (3.0.2)\n",
            "Requirement already satisfied: six>=1.5 in /usr/local/lib/python3.11/dist-packages (from python-dateutil>=2.7->matplotlib>=3.6->mne) (1.17.0)\n",
            "Requirement already satisfied: charset-normalizer<4,>=2 in /usr/local/lib/python3.11/dist-packages (from requests>=2.19.0->pooch>=1.5->mne) (3.4.2)\n",
            "Requirement already satisfied: idna<4,>=2.5 in /usr/local/lib/python3.11/dist-packages (from requests>=2.19.0->pooch>=1.5->mne) (3.10)\n",
            "Requirement already satisfied: urllib3<3,>=1.21.1 in /usr/local/lib/python3.11/dist-packages (from requests>=2.19.0->pooch>=1.5->mne) (2.4.0)\n",
            "Requirement already satisfied: certifi>=2017.4.17 in /usr/local/lib/python3.11/dist-packages (from requests>=2.19.0->pooch>=1.5->mne) (2025.4.26)\n",
            "Downloading mne-1.9.0-py3-none-any.whl (7.4 MB)\n",
            "\u001b[2K   \u001b[90m━━━━━━━━━━━━━━━━━━━━━━━━━━━━━━━━━━━━━━━━\u001b[0m \u001b[32m7.4/7.4 MB\u001b[0m \u001b[31m46.5 MB/s\u001b[0m eta \u001b[36m0:00:00\u001b[0m\n",
            "\u001b[?25hInstalling collected packages: mne\n",
            "Successfully installed mne-1.9.0\n"
          ]
        }
      ]
    },
    {
      "cell_type": "code",
      "source": [
        "import os\n",
        "import mne\n",
        "import numpy as np\n",
        "import pandas as pd\n",
        "import matplotlib.pyplot as plt\n",
        "import seaborn as sns\n",
        "from datetime import datetime, timedelta"
      ],
      "metadata": {
        "id": "-yLUUZ_9jBqn"
      },
      "execution_count": null,
      "outputs": []
    },
    {
      "cell_type": "code",
      "source": [
        "high_ahi_path = \"/content/drive/MyDrive/SleepApnea/Data/High_AHI\"\n",
        "low_ahi_path = \"/content/drive/MyDrive/SleepApnea/Data/Low_AHI\"\n",
        "\n",
        "one_patient_txt = os.path.join(high_ahi_path, 'OSAA10002 epoch and event list.txt')\n",
        "one_patient_edf = os.path.join(high_ahi_path, 'OSAA10002_New.edf')"
      ],
      "metadata": {
        "id": "qEVKYN3NjGYh"
      },
      "execution_count": null,
      "outputs": []
    },
    {
      "cell_type": "code",
      "source": [
        "def read_txt_file(txt_path, start_line=13):\n",
        "    with open(txt_path, 'r', encoding='latin-1') as f:\n",
        "        lines = f.readlines()\n",
        "        txt_start_line = lines[4].strip().split('\\t')[1]\n",
        "        txt_start = datetime.strptime(txt_start_line, \"%Y-%m-%d %I:%M:%S %p\")\n",
        "\n",
        "        data = [line.strip().split('\\t') for line in lines[start_line:] if line.strip()]\n",
        "        df = pd.DataFrame(data)\n",
        "        df.columns = df.iloc[0]\n",
        "        df = df[1:].reset_index(drop=True)\n",
        "\n",
        "        return df, txt_start\n",
        "\n",
        "df, txt_start = read_txt_file(one_patient_txt)\n",
        "print(\"TXT start time:\", txt_start)\n",
        "print(df.head())\n"
      ],
      "metadata": {
        "colab": {
          "base_uri": "https://localhost:8080/"
        },
        "id": "ecvyw66YrH2q",
        "outputId": "da782588-75c1-4115-a65a-1a9b5b2827a5"
      },
      "execution_count": null,
      "outputs": [
        {
          "output_type": "stream",
          "name": "stdout",
          "text": [
            "TXT start time: 2016-08-15 22:14:53\n",
            "0 Epoch                              Event   Start Time Duration\n",
            "0     1   Bad Data (Channel SpO2  (Amp 1))  10:14:53 PM    28.94\n",
            "1     1  Bad Data (Channel Pulse  (Amp 1))  10:14:53 PM    28.94\n",
            "2     9                        Eyes Closed  10:19:05 PM     None\n",
            "3    10                          Eyes Open  10:19:29 PM     None\n",
            "4    11                    Eyes Left/Right  10:20:03 PM     None\n"
          ]
        }
      ]
    },
    {
      "cell_type": "code",
      "source": [
        "from datetime import datetime, timedelta\n",
        "\n",
        "def add_seconds_since_start(df, start_time):\n",
        "  df['time_only'] = pd.to_datetime(df['Start Time'], format=\"%I:%M:%S %p\", errors='coerce').dt.time\n",
        "  df['Start Time'] = df['time_only'].apply(lambda t: datetime.combine(edf_start.date(), t))\n",
        "  df.loc[df['Start Time'] < edf_start, 'Start Time'] += timedelta(days=1)\n",
        "\n",
        "  df['seconds_since_start'] = (df['Start Time'] - edf_start).dt.total_seconds()\n",
        "  print(df[['Event', 'Start Time', 'seconds_since_start']].head())\n",
        "\n",
        "  return df\n"
      ],
      "metadata": {
        "id": "oubTOxUlrMLd"
      },
      "execution_count": null,
      "outputs": []
    },
    {
      "cell_type": "markdown",
      "source": [
        "For each EDF under `High_AHI/`:\n",
        "\n",
        "1. **Extract `patient_id` from the filename** (e.g. `\"OSAA10002_New.edf\"` → `\"OSAA10002\"`).  \n",
        "2. **Load raw data via MNE**:  \n",
        "   - `sfreq` is the sampling frequency (e.g. 256 Hz).  \n",
        "   - `signal` is a NumPy array of shape `(n_channels, n_samples)`.  \n",
        "3. **Read that patient’s TXT and convert to `seconds_since_start`**.  \n",
        "4. **Build an `event_list`** = a Python list of tuples `(start_sec, end_sec, event_label)`.  \n",
        "   - For each row in `ev_df`, `start_sec = df[\"seconds_since_start\"]`.  \n",
        "   - `end_sec = start_sec + Duration` (or `start_sec + window_size` if Duration missing).  \n",
        "5. **Slide a 10-second window by 2 seconds** (i.e. overlapping 8 s).  \n",
        "   - `start_times = np.arange(0, total_sec - window_size + 1, step_size)`.  \n",
        "   - For each `start_sec` in that array, compute sample indices `start_sample = start_sec * sfreq` and `end_sample = end_sec * sfreq`.  \n",
        "   - Extract `segment = signal[:, start_sample:end_sample]`: this is a `(n_channels × 2560)` array.  \n",
        "   - Save it as `patientID_0001.npy`, `patientID_0002.npy`, … under `ProcessedNpy/`.  \n",
        "6. **Assign each window an overlapping event label**:  \n",
        "   - Skip any event whose `(end_sec - start_sec) ≥ 29 s` (these are sleep staged which overlap with events and are too long in duration for most cases).  \n",
        "   - Compute overlap with each remaining event:  \n",
        "     ```\n",
        "     overlap_start = max(window_start, event_start)\n",
        "     overlap_end   = min(window_end,   event_end)\n",
        "     overlap = max(0, overlap_end - overlap_start)\n",
        "     if overlap > 0: collect (event_label, overlap)\n",
        "     ```  \n",
        "   - Choose the event with the **maximum overlap**; if none overlap, label = `\"None\"`.  \n",
        "   - Append that string into `event_array`.  "
      ],
      "metadata": {
        "id": "VOEIqdTqRU-g"
      }
    },
    {
      "cell_type": "code",
      "source": [
        "import numpy as np\n",
        "import pandas as pd\n",
        "import mne\n",
        "import glob\n",
        "import os\n",
        "\n",
        "# === Parameters ===\n",
        "window_size = 10     # seconds\n",
        "step_size = 2        # seconds\n",
        "npy_path = \"/content/drive/MyDrive/SleepApnea/ProcessedNpy\"  # set your target folder\n",
        "os.makedirs(npy_path, exist_ok=True)\n",
        "\n",
        "# === Main Processing ===\n",
        "high_ahi_path = \"/content/drive/MyDrive/SleepApnea/Data/High_AHI\"\n",
        "edf_files = glob.glob(os.path.join(high_ahi_path, \"*.edf\"))\n",
        "\n",
        "for edf_path in edf_files:\n",
        "    basename = os.path.basename(edf_path)\n",
        "    patient_id = basename.split(\"_\")[0]\n",
        "    print(f\"Processing {patient_id}...\")\n",
        "\n",
        "    # === Load EDF ===\n",
        "    raw = mne.io.read_raw_edf(edf_path, preload=True, verbose=False)\n",
        "    sfreq = int(raw.info['sfreq'])\n",
        "    signal = raw.get_data()\n",
        "    channels = raw.ch_names\n",
        "    total_sec = signal.shape[1] / sfreq\n",
        "\n",
        "    # === Load Event TXT ===\n",
        "    txt_path = os.path.join(high_ahi_path, f\"{patient_id} epoch and event list.txt\")\n",
        "    ev_df, ev_start_time = read_txt_file(txt_path, start_line=13)\n",
        "    ev_df = add_seconds_since_start(ev_df, ev_start_time)\n",
        "\n",
        "    # === Build event list\n",
        "    event_list = []\n",
        "    for _, row in ev_df.iterrows():\n",
        "        start = row['seconds_since_start']\n",
        "        end = start + float(row['Duration']) if pd.notna(row['Duration']) else start + window_size\n",
        "        event_list.append((start, end, row['Event']))\n",
        "\n",
        "    # === Sliding window\n",
        "    start_times = np.arange(0, total_sec - window_size + 1, window_size - step_size)\n",
        "    event_array = []\n",
        "\n",
        "    for idx, start_sec in enumerate(start_times):\n",
        "        end_sec = start_sec + window_size\n",
        "        start_sample = int(start_sec * sfreq)\n",
        "        end_sample = int(end_sec * sfreq)\n",
        "\n",
        "        # === Extract signal ===\n",
        "        segment = signal[:, start_sample:end_sample]\n",
        "        filename = os.path.join(npy_path, f\"{patient_id}_{idx+1:04d}.npy\")\n",
        "        np.save(filename, {'signal': segment, 'channels': channels}, allow_pickle=True)\n",
        "\n",
        "        # === Assign overlapping event\n",
        "        event_duration_mapping = []\n",
        "        for ev_start, ev_end, ev_label in event_list:\n",
        "            if ev_end - ev_start >= 29:\n",
        "              continue\n",
        "            overlap_start = max(start_sec, ev_start)\n",
        "            overlap_end = min(end_sec, ev_end)\n",
        "            overlap = max(0, overlap_end - overlap_start)\n",
        "\n",
        "            if overlap > 0:\n",
        "                event_duration_mapping.append((ev_label, overlap))\n",
        "\n",
        "        if event_duration_mapping:\n",
        "            event_duration_mapping.sort(key=lambda x: x[1], reverse=True)\n",
        "            matched = event_duration_mapping[0][0]\n",
        "        else:\n",
        "            matched = \"None\"\n",
        "\n",
        "        event_array.append(matched)\n",
        "\n",
        "    # === Save events as TXT file\n",
        "    event_txt_path = os.path.join(npy_path, f\"{patient_id}_event_array.txt\")\n",
        "    with open(event_txt_path, \"w\") as f:\n",
        "        for label in event_array:\n",
        "            f.write(f\"{label}\\n\")\n",
        "\n",
        "    print(f\"Saved {len(event_array)} samples and events for {patient_id}.\")\n"
      ],
      "metadata": {
        "colab": {
          "base_uri": "https://localhost:8080/"
        },
        "id": "HlqnfGhDMnE7",
        "outputId": "794ef0aa-7f01-4800-80e9-46b6822984ff"
      },
      "execution_count": null,
      "outputs": [
        {
          "output_type": "stream",
          "name": "stdout",
          "text": [
            "Processing OSAA10006...\n",
            "0                         Event          Start Time  seconds_since_start\n",
            "0                   Eyes Closed 2016-08-15 23:10:47               3354.0\n",
            "1                     Eyes Open 2016-08-15 23:11:32               3399.0\n",
            "2               Eyes Left/Right 2016-08-15 23:12:38               3465.0\n",
            "3                    Eye Blinks 2016-08-15 23:12:49               3476.0\n",
            "4  Teeth Grind, Yawn or Swallow 2016-08-15 23:13:08               3495.0\n",
            "Saved 3129 samples and events for OSAA10006.\n",
            "Processing OSAA10002...\n",
            "0                              Event          Start Time  seconds_since_start\n",
            "0   Bad Data (Channel SpO2  (Amp 1)) 2016-08-15 22:14:53                  0.0\n",
            "1  Bad Data (Channel Pulse  (Amp 1)) 2016-08-15 22:14:53                  0.0\n",
            "2                        Eyes Closed 2016-08-15 22:19:05                252.0\n",
            "3                          Eyes Open 2016-08-15 22:19:29                276.0\n",
            "4                    Eyes Left/Right 2016-08-15 22:20:03                310.0\n",
            "Saved 3394 samples and events for OSAA10002.\n",
            "Processing OSAA10007...\n",
            "0                              Event          Start Time  seconds_since_start\n",
            "0  Bad Data (Channel Pulse  (Amp 1)) 2016-08-16 21:30:37              83744.0\n",
            "1   Bad Data (Channel SpO2  (Amp 1)) 2016-08-16 21:30:37              83744.0\n",
            "2                          Eyes Open 2016-08-16 21:37:39              84166.0\n",
            "3                        Eyes Closed 2016-08-16 21:37:47              84174.0\n",
            "4                          Eyes Open 2016-08-16 21:37:58              84185.0\n",
            "Saved 3760 samples and events for OSAA10007.\n"
          ]
        }
      ]
    },
    {
      "cell_type": "code",
      "source": [
        "import os\n",
        "import glob\n",
        "\n",
        "def save_labels(apath, step_size=8, forecast_seconds=20):\n",
        "    \"\"\"\n",
        "    For each *_event_array.txt in apath, generate a patient_id_labels.txt\n",
        "    containing one integer per sliding‐window index:\n",
        "      1  = window with (hypo)apnea\n",
        "      0  = window forecast_steps before that event\n",
        "     -1  = everything else\n",
        "\n",
        "    step_size: how many seconds each window shifts (8 s in your case)\n",
        "    forecast_seconds: how far ahead to forecast (20 s here)\n",
        "    \"\"\"\n",
        "    forecast_steps = int(forecast_seconds / step_size)\n",
        "\n",
        "    event_txt_files = glob.glob(os.path.join(apath, \"*_event_array.txt\"))\n",
        "    for txt_file in event_txt_files:\n",
        "        patient_id = os.path.basename(txt_file).split(\"_event_array.txt\")[0]\n",
        "\n",
        "        # Load event names (one per window, exactly in index order)\n",
        "        with open(txt_file, \"r\") as f:\n",
        "            event_array = [line.strip() for line in f if line.strip()]\n",
        "\n",
        "        n = len(event_array)\n",
        "        label_array = [-1] * n   # default = -1\n",
        "\n",
        "        for i, ev in enumerate(event_array):\n",
        "            if \"apnea\" in ev.lower() or \"hypopnea\" in ev.lower():\n",
        "                label_array[i] = 1\n",
        "                target_idx = i - forecast_steps\n",
        "                if target_idx >= 0:\n",
        "                    label_array[target_idx] = 0\n",
        "\n",
        "        # Save the numeric labels to patient_id_labels.txt\n",
        "        out_path = os.path.join(apath, f\"{patient_id}_labels.txt\")\n",
        "        with open(out_path, \"w\") as out:\n",
        "            for lbl in label_array:\n",
        "                out.write(f\"{lbl}\\n\")\n",
        "\n",
        "        print(f\"Saved labels for {patient_id} → {out_path}\")\n",
        "\n"
      ],
      "metadata": {
        "id": "cxr_T9-cQGXl"
      },
      "execution_count": null,
      "outputs": []
    },
    {
      "cell_type": "code",
      "source": [
        "save_labels(npy_path)"
      ],
      "metadata": {
        "id": "qEPx5kzlfvlc"
      },
      "execution_count": null,
      "outputs": []
    }
  ]
}